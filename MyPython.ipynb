{
  "nbformat": 4,
  "nbformat_minor": 0,
  "metadata": {
    "colab": {
      "provenance": [],
      "authorship_tag": "ABX9TyMO1bsvGkdEaATz+JRQgaah",
      "include_colab_link": true
    },
    "kernelspec": {
      "name": "python3",
      "display_name": "Python 3"
    },
    "language_info": {
      "name": "python"
    }
  },
  "cells": [
    {
      "cell_type": "markdown",
      "metadata": {
        "id": "view-in-github",
        "colab_type": "text"
      },
      "source": [
        "<a href=\"https://colab.research.google.com/github/bennyisaac/hello-world/blob/master/MyPython.ipynb\" target=\"_parent\"><img src=\"https://colab.research.google.com/assets/colab-badge.svg\" alt=\"Open In Colab\"/></a>"
      ]
    },
    {
      "cell_type": "code",
      "execution_count": 1,
      "metadata": {
        "id": "n5yF_olaDPPA",
        "colab": {
          "base_uri": "https://localhost:8080/"
        },
        "outputId": "a7e3e6f1-af43-4170-ead7-ec9f3be41c5c"
      },
      "outputs": [
        {
          "name": "stdout",
          "output_type": "stream",
          "text": [
            "What is your name? Benny\n",
            "What is your salary? 10000\n"
          ]
        }
      ],
      "source": [
        "name = str(input(\"What is your name? \"))\n",
        "salary = int(input(\"What is your salary? \"))"
      ]
    },
    {
      "cell_type": "code",
      "source": [
        "print(f\"name is {name} and salary is {salary}\")"
      ],
      "metadata": {
        "colab": {
          "base_uri": "https://localhost:8080/"
        },
        "id": "s9Dw7uI6Ff8s",
        "outputId": "32895486-d83b-4fe4-f93a-3dab76a02080"
      },
      "execution_count": 2,
      "outputs": [
        {
          "output_type": "stream",
          "name": "stdout",
          "text": [
            "name is Benny and salary is 10000\n"
          ]
        }
      ]
    }
  ]
}